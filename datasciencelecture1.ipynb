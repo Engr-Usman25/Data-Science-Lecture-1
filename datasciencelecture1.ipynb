{
 "cells": [
  {
   "cell_type": "markidown",
   "id": "edf74e69-b390-4b98-b7fa-399d5d963100",
   "metadata": {},
   "source": [
    "Final Project - Data Science Tools and Ecosystem\n"
   ]
  },
  {
   "cell_type": "markdown",
   "id": "6d4f8adf-b018-4b61-b389-6a4ddaf40450",
   "metadata": {},
   "source": [
    "## Introduction\n",
    "In this notebook, we will summarize essential tools, languages, and libraries used in data science. We will also perform some basic arithmetic operations using code cells.\n"
   ]
  },
  {
   "cell_type": "markdown",
   "id": "25de8239-27b9-483c-8bc7-f22bc5d267ca",
   "metadata": {},
   "source": [
    "## Data Science Languages\n",
    "- Python  \n",
    "- R  \n",
    "- SQL  \n",
    "- Julia  \n",
    "- Scala  \n"
   ]
  },
  {
   "cell_type": "markdown",
   "id": "fda257b8-fe0b-44c9-b5b3-5b89b734da0f",
   "metadata": {},
   "source": [
    "## Data Science Libraries\n",
    "Some of the commonly used libraries in data science are:\n",
    "- Pandas  \n",
    "- NumPy  \n",
    "- Matplotlib  \n",
    "- Scikit-learn  \n",
    "- TensorFlow  \n",
    "- ggplot2  \n"
   ]
  },
  {
   "cell_type": "markdown",
   "id": "530a1df7-cf97-4c15-bb7a-f7c64ab32a01",
   "metadata": {},
   "source": [
    "## Data Science Tools\n",
    "\n",
    "| Tool Name         | Category        | Use Case                          |\n",
    "|-------------------|-----------------|-----------------------------------|\n",
    "| Jupyter Notebook  | IDE             | Interactive coding & reporting |\n",
    "| Apache Hadoop     | Big Data        | Distributed data processing      |\n",
    "| Tableau           | Visualization   | Data visualization               |\n",
    "| RStudio           | IDE             | R programming environment        |\n",
    "| Power BI          | Visualization   | Business intelligence reporting  |\n"
   ]
  },
  {
   "cell_type": "raw",
   "id": "466eae14-d8b3-41a8-9b7e-3fe8edc1d477",
   "metadata": {},
   "source": [
    "## Arithmetic Expressions\n",
    "Below is an example of evaluating arithmetic expressions like addition and multiplication in a code cell.\n"
   ]
  },
  {
   "cell_type": "code",
   "execution_count": 1,
   "id": "856ddc7e-911b-45dd-9e55-6ebccea9c2a8",
   "metadata": {},
   "outputs": [
    {
     "data": {
      "text/plain": [
       "17"
      ]
     },
     "execution_count": 1,
     "metadata": {},
     "output_type": "execute_result"
    }
   ],
   "source": [
    "# This code multiplies 3 and 4 then adds 5\n",
    "(3 * 4) + 5\n"
   ]
  },
  {
   "cell_type": "code",
   "execution_count": 2,
   "id": "7bf4c657-8936-4a0b-87b8-9bed4c5598c2",
   "metadata": {},
   "outputs": [
    {
     "data": {
      "text/plain": [
       "3.3333333333333335"
      ]
     },
     "execution_count": 2,
     "metadata": {},
     "output_type": "execute_result"
    }
   ],
   "source": [
    "# This code converts 200 minutes to hours\n",
    "minutes = 200\n",
    "hours = minutes / 60\n",
    "hours\n"
   ]
  },
  {
   "cell_type": "markdown",
   "id": "9791288b-df45-489d-9f59-8cdc9dbb1877",
   "metadata": {},
   "source": [
    "## Objectives\n",
    "- List popular languages for Data Science  \n",
    "- List commonly used libraries  \n",
    "- Demonstrate the use of arithmetic expressions  \n",
    "- Create tables using markdown  \n",
    "- Convert units using Python code  \n"
   ]
  },
  {
   "cell_type": "markdown",
   "id": "52334b81-02e8-4ba6-8b26-a94226b6f02b",
   "metadata": {},
   "source": [
    "## Author\n",
    "**Usman Mughal**\n"
   ]
  },
  {
   "cell_type": "code",
   "execution_count": null,
   "id": "7d378564-68d9-4c61-a3aa-26fb4e042bde",
   "metadata": {},
   "outputs": [],
   "source": []
  },
  {
   "cell_type": "code",
   "execution_count": null,
   "id": "134d61e3-c120-4385-b013-53ea487cad52",
   "metadata": {},
   "outputs": [],
   "source": []
  },
  {
   "cell_type": "code",
   "execution_count": null,
   "id": "e74c362a-a8cb-4231-b7a6-d76f427a2537",
   "metadata": {},
   "outputs": [],
   "source": []
  },
  {
   "cell_type": "code",
   "execution_count": null,
   "id": "4687adcd-76a2-499f-a91a-8632f1ea5a59",
   "metadata": {},
   "outputs": [],
   "source": []
  },
  {
   "cell_type": "code",
   "execution_count": null,
   "id": "828a3343-56d5-4ffb-8dc6-60d63b74d262",
   "metadata": {},
   "outputs": [],
   "source": []
  },
  {
   "cell_type": "code",
   "execution_count": null,
   "id": "d6e7dcaf-ea05-435f-84be-d99af13923e0",
   "metadata": {},
   "outputs": [],
   "source": []
  }
 ],
 "metadata": {
  "kernelspec": {
   "display_name": "Python 3 (ipykernel)",
   "language": "python",
   "name": "python3"
  },
  "language_info": {
   "codemirror_mode": {
    "name": "ipython",
    "version": 3
   },
   "file_extension": ".py",
   "mimetype": "text/x-python",
   "name": "python",
   "nbconvert_exporter": "python",
   "pygments_lexer": "ipython3",
   "version": "3.13.3"
  }
 },
 "nbformat": 4,
 "nbformat_minor": 5
}
